{
 "cells": [
  {
   "cell_type": "code",
   "execution_count": 1,
   "metadata": {},
   "outputs": [
    {
     "ename": "ModuleNotFoundError",
     "evalue": "No module named 'statsmodels'",
     "output_type": "error",
     "traceback": [
      "\u001b[1;31m---------------------------------------------------------------------------\u001b[0m",
      "\u001b[1;31mModuleNotFoundError\u001b[0m                       Traceback (most recent call last)",
      "Input \u001b[1;32mIn [1]\u001b[0m, in \u001b[0;36m<module>\u001b[1;34m\u001b[0m\n\u001b[0;32m      2\u001b[0m \u001b[38;5;28;01mimport\u001b[39;00m \u001b[38;5;21;01mpandas\u001b[39;00m \u001b[38;5;28;01mas\u001b[39;00m \u001b[38;5;21;01mpd\u001b[39;00m \n\u001b[0;32m      3\u001b[0m pd\u001b[38;5;241m.\u001b[39mset_option(\u001b[38;5;124m\"\u001b[39m\u001b[38;5;124mdisplay.max_columns\u001b[39m\u001b[38;5;124m\"\u001b[39m,\u001b[38;5;28;01mNone\u001b[39;00m)\n\u001b[1;32m----> 4\u001b[0m \u001b[38;5;28;01mfrom\u001b[39;00m \u001b[38;5;21;01mstatsmodels\u001b[39;00m\u001b[38;5;21;01m.\u001b[39;00m\u001b[38;5;21;01mtsa\u001b[39;00m\u001b[38;5;21;01m.\u001b[39;00m\u001b[38;5;21;01marima_model\u001b[39;00m \u001b[38;5;28;01mimport\u001b[39;00m ARIMA\n\u001b[0;32m      5\u001b[0m \u001b[38;5;28;01mimport\u001b[39;00m \u001b[38;5;21;01mos\u001b[39;00m\n\u001b[0;32m      6\u001b[0m get_ipython()\u001b[38;5;241m.\u001b[39msystem(\u001b[38;5;124m'\u001b[39m\u001b[38;5;124mjupyter notebook --clear-cache\u001b[39m\u001b[38;5;124m'\u001b[39m)\n",
      "\u001b[1;31mModuleNotFoundError\u001b[0m: No module named 'statsmodels'"
     ]
    }
   ],
   "source": [
    "import numpy as np \n",
    "import pandas as pd \n",
    "pd.set_option(\"display.max_columns\",None)\n",
    "from statsmodels.tsa.arima_model import ARIMA\n",
    "import os\n",
    "!jupyter notebook --clear-cache"
   ]
  },
  {
   "cell_type": "markdown",
   "metadata": {},
   "source": [
    "\n",
    "\n",
    "\n",
    "## Data Collection"
   ]
  },
  {
   "cell_type": "code",
   "execution_count": null,
   "metadata": {
    "execution": {
     "iopub.execute_input": "2023-11-05T08:55:18.605080Z",
     "iopub.status.busy": "2023-11-05T08:55:18.604528Z",
     "iopub.status.idle": "2023-11-05T08:55:18.651717Z",
     "shell.execute_reply": "2023-11-05T08:55:18.650395Z",
     "shell.execute_reply.started": "2023-11-05T08:55:18.605021Z"
    }
   },
   "outputs": [],
   "source": [
    "fail_df = pd.read_csv(\"PdM_failures.csv\")\n",
    "print(fail_df.shape)\n",
    "fail_df.head()"
   ]
  },
  {
   "cell_type": "code",
   "execution_count": null,
   "metadata": {
    "execution": {
     "iopub.execute_input": "2023-11-05T08:55:18.655138Z",
     "iopub.status.busy": "2023-11-05T08:55:18.654735Z",
     "iopub.status.idle": "2023-11-05T08:55:18.690343Z",
     "shell.execute_reply": "2023-11-05T08:55:18.688703Z",
     "shell.execute_reply.started": "2023-11-05T08:55:18.655103Z"
    }
   },
   "outputs": [],
   "source": [
    "error_df = pd.read_csv(\"PdM_errors.csv\")\n",
    "print(error_df.shape)\n",
    "error_df.head()"
   ]
  },
  {
   "cell_type": "code",
   "execution_count": null,
   "metadata": {
    "execution": {
     "iopub.execute_input": "2023-11-05T08:55:18.693294Z",
     "iopub.status.busy": "2023-11-05T08:55:18.692751Z",
     "iopub.status.idle": "2023-11-05T08:55:20.829641Z",
     "shell.execute_reply": "2023-11-05T08:55:20.828136Z",
     "shell.execute_reply.started": "2023-11-05T08:55:18.693244Z"
    }
   },
   "outputs": [],
   "source": [
    "tele_df = pd.read_csv(\"PdM_telemetry.csv\")\n",
    "print(tele_df.shape)\n",
    "tele_df.head()"
   ]
  },
  {
   "cell_type": "markdown",
   "metadata": {},
   "source": [
    "## Pre-Processing"
   ]
  },
  {
   "cell_type": "code",
   "execution_count": null,
   "metadata": {
    "execution": {
     "iopub.execute_input": "2023-11-05T08:55:20.832293Z",
     "iopub.status.busy": "2023-11-05T08:55:20.831869Z",
     "iopub.status.idle": "2023-11-05T08:55:20.871499Z",
     "shell.execute_reply": "2023-11-05T08:55:20.869357Z",
     "shell.execute_reply.started": "2023-11-05T08:55:20.832258Z"
    }
   },
   "outputs": [],
   "source": [
    "fail_df.info()"
   ]
  },
  {
   "cell_type": "code",
   "execution_count": null,
   "metadata": {
    "execution": {
     "iopub.execute_input": "2023-11-05T08:55:20.875861Z",
     "iopub.status.busy": "2023-11-05T08:55:20.873708Z",
     "iopub.status.idle": "2023-11-05T08:55:20.893483Z",
     "shell.execute_reply": "2023-11-05T08:55:20.891388Z",
     "shell.execute_reply.started": "2023-11-05T08:55:20.875767Z"
    }
   },
   "outputs": [],
   "source": [
    "error_df.info()"
   ]
  },
  {
   "cell_type": "code",
   "execution_count": null,
   "metadata": {
    "execution": {
     "iopub.execute_input": "2023-11-05T08:55:20.897143Z",
     "iopub.status.busy": "2023-11-05T08:55:20.895743Z",
     "iopub.status.idle": "2023-11-05T08:55:21.016473Z",
     "shell.execute_reply": "2023-11-05T08:55:21.014819Z",
     "shell.execute_reply.started": "2023-11-05T08:55:20.897096Z"
    }
   },
   "outputs": [],
   "source": [
    "tele_df.info()"
   ]
  },
  {
   "cell_type": "code",
   "execution_count": null,
   "metadata": {
    "execution": {
     "iopub.execute_input": "2023-11-05T08:55:21.018552Z",
     "iopub.status.busy": "2023-11-05T08:55:21.018113Z",
     "iopub.status.idle": "2023-11-05T08:55:21.527871Z",
     "shell.execute_reply": "2023-11-05T08:55:21.526693Z",
     "shell.execute_reply.started": "2023-11-05T08:55:21.018510Z"
    }
   },
   "outputs": [],
   "source": [
    "tele_df['datetime_new'] = pd.to_datetime(\n",
    "    tele_df['datetime'],\n",
    "    format=\"%Y-%m-%d %H:%M:%S\"\n",
    ")\n",
    "print(\"---------------------------------------------Telemetry--------------------------------------------------\")\n",
    "print(tele_df.info())\n",
    "\n",
    "fail_df['datetime_new'] = pd.to_datetime(\n",
    "    fail_df['datetime'],\n",
    "    format=\"%Y-%m-%d %H:%M:%S\"\n",
    ")\n",
    "print(\"---------------------------------------------Machine Failure--------------------------------------------------\")\n",
    "print(fail_df.info())\n",
    "\n",
    "error_df['datetime_new'] = pd.to_datetime(\n",
    "    error_df['datetime'],\n",
    "    format=\"%Y-%m-%d %H:%M:%S\"\n",
    ")\n",
    "print(\"---------------------------------------------Error occured--------------------------------------------------\")\n",
    "print(error_df.info())"
   ]
  },
  {
   "cell_type": "code",
   "execution_count": null,
   "metadata": {
    "execution": {
     "iopub.execute_input": "2023-11-05T08:55:21.529982Z",
     "iopub.status.busy": "2023-11-05T08:55:21.529515Z",
     "iopub.status.idle": "2023-11-05T08:55:21.565886Z",
     "shell.execute_reply": "2023-11-05T08:55:21.564771Z",
     "shell.execute_reply.started": "2023-11-05T08:55:21.529920Z"
    }
   },
   "outputs": [],
   "source": [
    "# Uncomment this cell to run notebook\n",
    "\n",
    "tele_df.drop('datetime',axis='columns', inplace=True)\n",
    "fail_df.drop('datetime',axis='columns', inplace=True)\n",
    "error_df.drop('datetime',axis='columns', inplace=True)"
   ]
  },
  {
   "cell_type": "markdown",
   "metadata": {},
   "source": [
    "## Machinewise data seperation"
   ]
  },
  {
   "cell_type": "code",
   "execution_count": null,
   "metadata": {
    "execution": {
     "iopub.execute_input": "2023-11-05T08:55:21.571215Z",
     "iopub.status.busy": "2023-11-05T08:55:21.570834Z",
     "iopub.status.idle": "2023-11-05T08:55:21.888446Z",
     "shell.execute_reply": "2023-11-05T08:55:21.887086Z",
     "shell.execute_reply.started": "2023-11-05T08:55:21.571184Z"
    }
   },
   "outputs": [],
   "source": [
    "machine_id = tele_df['machineID'].unique()\n",
    "dfs = []\n",
    "\n",
    "def sort_by_date(df, col):\n",
    "    return df.sort_values(by=col)\n",
    "\n",
    "for ID in machine_id:\n",
    "    temp_df = tele_df[tele_df['machineID']==ID]\n",
    "    temp_df = sort_by_date(temp_df, 'datetime_new')\n",
    "    dfs.append(temp_df)\n",
    "    \n",
    "print(\"No. of Machines in Telemetry = {}\".format(len(dfs)))    "
   ]
  },
  {
   "cell_type": "code",
   "execution_count": null,
   "metadata": {
    "execution": {
     "iopub.execute_input": "2023-11-05T08:55:21.890817Z",
     "iopub.status.busy": "2023-11-05T08:55:21.890242Z",
     "iopub.status.idle": "2023-11-05T08:55:22.079253Z",
     "shell.execute_reply": "2023-11-05T08:55:22.078097Z",
     "shell.execute_reply.started": "2023-11-05T08:55:21.890775Z"
    }
   },
   "outputs": [],
   "source": [
    "machine_id = tele_df['machineID'].unique()\n",
    "fail_dfs, error_dfs = [],[]\n",
    "\n",
    "def sort_by_date(df, col):\n",
    "    return df.sort_values(by=col)\n",
    "\n",
    "for ID in machine_id:\n",
    "    fail_temp = fail_df[fail_df['machineID']==ID]\n",
    "    error_temp = error_df[error_df['machineID']==ID]\n",
    "    fail_temp = sort_by_date(fail_temp, 'datetime_new')\n",
    "    error_temp = sort_by_date(error_temp, 'datetime_new')\n",
    "    fail_dfs.append(fail_temp)\n",
    "    error_dfs.append(error_temp)\n",
    "    \n",
    "print(\"No. of Machines fail dfs = {}\".format(len(fail_dfs)))\n",
    "print(\"No. of Machines error dfs = {}\".format(len(error_dfs)))"
   ]
  },
  {
   "cell_type": "markdown",
   "metadata": {},
   "source": [
    "## Data Visualization\n",
    "> Consider first machine for data visualization"
   ]
  },
  {
   "cell_type": "code",
   "execution_count": null,
   "metadata": {
    "execution": {
     "iopub.execute_input": "2023-11-05T08:55:22.081462Z",
     "iopub.status.busy": "2023-11-05T08:55:22.080748Z",
     "iopub.status.idle": "2023-11-05T08:55:23.165942Z",
     "shell.execute_reply": "2023-11-05T08:55:23.164465Z",
     "shell.execute_reply.started": "2023-11-05T08:55:22.081420Z"
    }
   },
   "outputs": [],
   "source": [
    "import plotly.graph_objects as go\n",
    "import plotly.express as ex\n",
    "import matplotlib.pyplot as plt"
   ]
  },
  {
   "cell_type": "code",
   "execution_count": null,
   "metadata": {
    "execution": {
     "iopub.execute_input": "2023-11-05T08:55:23.168357Z",
     "iopub.status.busy": "2023-11-05T08:55:23.167697Z",
     "iopub.status.idle": "2023-11-05T08:55:23.800090Z",
     "shell.execute_reply": "2023-11-05T08:55:23.794688Z",
     "shell.execute_reply.started": "2023-11-05T08:55:23.168321Z"
    }
   },
   "outputs": [],
   "source": [
    "trace = go.Scatter(x=dfs[0]['datetime_new'], y=dfs[0]['volt'], mode='lines', name='Voltage')\n",
    "trace_error = go.Scatter(x=error_dfs[0]['datetime_new'], mode='markers', name='error', marker=dict(size=10, color='yellow'))\n",
    "trace_dots = go.Scatter(x=fail_dfs[0]['datetime_new'], mode='markers', name='failures', marker=dict(size=10, color='red'))\n",
    "\n",
    "fig = go.Figure(data=[trace,trace_error,trace_dots])\n",
    "\n",
    "fig.update_layout(\n",
    "    title = \"Errors and Failures with voltage variations\",\n",
    "    xaxis_title = \"Date\",\n",
    "    yaxis_title = \"Voltage level\"   \n",
    ")\n",
    "\n",
    "fig.show()"
   ]
  },
  {
   "cell_type": "code",
   "execution_count": null,
   "metadata": {
    "execution": {
     "iopub.execute_input": "2023-11-05T08:55:23.802738Z",
     "iopub.status.busy": "2023-11-05T08:55:23.802036Z",
     "iopub.status.idle": "2023-11-05T08:55:24.010805Z",
     "shell.execute_reply": "2023-11-05T08:55:24.009604Z",
     "shell.execute_reply.started": "2023-11-05T08:55:23.802692Z"
    }
   },
   "outputs": [],
   "source": [
    "trace = go.Scatter(x=dfs[0]['datetime_new'], y=dfs[0]['rotate'], mode='lines', name='rotation')\n",
    "trace_error = go.Scatter(x=error_dfs[0]['datetime_new'], mode='markers', name='error', marker=dict(size=10, color='yellow'))\n",
    "trace_dots = go.Scatter(x=fail_dfs[0]['datetime_new'], mode='markers', name='failures', marker=dict(size=10, color='red'))\n",
    "\n",
    "fig = go.Figure(data=[trace,trace_error,trace_dots])\n",
    "\n",
    "fig.update_layout(\n",
    "    title = \"Errors and Failures with rotation variations\",\n",
    "    xaxis_title = \"Date\",\n",
    "    yaxis_title = \"Rotation level\"   \n",
    ")\n",
    "\n",
    "fig.show()"
   ]
  },
  {
   "cell_type": "code",
   "execution_count": null,
   "metadata": {
    "execution": {
     "iopub.execute_input": "2023-11-05T08:55:24.012751Z",
     "iopub.status.busy": "2023-11-05T08:55:24.012334Z",
     "iopub.status.idle": "2023-11-05T08:55:24.218407Z",
     "shell.execute_reply": "2023-11-05T08:55:24.217383Z",
     "shell.execute_reply.started": "2023-11-05T08:55:24.012715Z"
    }
   },
   "outputs": [],
   "source": [
    "trace = go.Scatter(x=dfs[0]['datetime_new'], y=dfs[0]['pressure'], mode='lines', name='pressure')\n",
    "trace_error = go.Scatter(x=error_dfs[0]['datetime_new'], mode='markers', name='error', marker=dict(size=10, color='yellow'))\n",
    "trace_dots = go.Scatter(x=fail_dfs[0]['datetime_new'], mode='markers', name='failures', marker=dict(size=10, color='red'))\n",
    "\n",
    "fig = go.Figure(data=[trace,trace_error,trace_dots])\n",
    "\n",
    "fig.update_layout(\n",
    "    title = \"Errors and Failures with pressure variations\",\n",
    "    xaxis_title = \"Date\",\n",
    "    yaxis_title = \"pressure level\"   \n",
    ")\n",
    "\n",
    "fig.show()"
   ]
  },
  {
   "cell_type": "code",
   "execution_count": null,
   "metadata": {
    "execution": {
     "iopub.execute_input": "2023-11-05T08:55:24.221212Z",
     "iopub.status.busy": "2023-11-05T08:55:24.219992Z",
     "iopub.status.idle": "2023-11-05T08:55:24.421430Z",
     "shell.execute_reply": "2023-11-05T08:55:24.420198Z",
     "shell.execute_reply.started": "2023-11-05T08:55:24.221161Z"
    }
   },
   "outputs": [],
   "source": [
    "trace = go.Scatter(x=dfs[0]['datetime_new'], y=dfs[0]['vibration'], mode='lines', name='vibration')\n",
    "trace_error = go.Scatter(x=error_dfs[0]['datetime_new'], mode='markers', name='error', marker=dict(size=10, color='yellow'))\n",
    "trace_dots = go.Scatter(x=fail_dfs[0]['datetime_new'], mode='markers', name='failures', marker=dict(size=10, color='red'))\n",
    "\n",
    "fig = go.Figure(data=[trace,trace_error,trace_dots])\n",
    "\n",
    "fig.update_layout(\n",
    "    title = \"Errors and Failures with vibration variations\",\n",
    "    xaxis_title = \"Date\",\n",
    "    yaxis_title = \"vibration level\"   \n",
    ")\n",
    "\n",
    "fig.show()"
   ]
  },
  {
   "cell_type": "code",
   "execution_count": null,
   "metadata": {
    "execution": {
     "iopub.execute_input": "2023-11-05T08:55:24.423283Z",
     "iopub.status.busy": "2023-11-05T08:55:24.422895Z",
     "iopub.status.idle": "2023-11-05T08:55:24.445638Z",
     "shell.execute_reply": "2023-11-05T08:55:24.444400Z",
     "shell.execute_reply.started": "2023-11-05T08:55:24.423246Z"
    }
   },
   "outputs": [],
   "source": [
    "trace_error = go.Scatter(x=error_dfs[0]['datetime_new'],y=[0]*len(error_dfs[0]['datetime_new']), mode='markers', name='error', marker=dict(size=10, color='yellow'))\n",
    "trace_dots = go.Scatter(x=fail_dfs[0]['datetime_new'],y=[1]*len(error_dfs[0]['datetime_new']), mode='markers', name='failures', marker=dict(size=10, color='red'))\n",
    "\n",
    "fig = go.Figure(data=[trace_error,trace_dots])\n",
    "fig.update_layout(\n",
    "    title=\"Error and Failure\",\n",
    "    xaxis_title = \"Data\",)\n",
    "\n",
    "fig.show()"
   ]
  },
  {
   "cell_type": "markdown",
   "metadata": {},
   "source": [
    "### Most Impacted Errror for failure"
   ]
  },
  {
   "cell_type": "code",
   "execution_count": null,
   "metadata": {
    "execution": {
     "iopub.execute_input": "2023-11-05T08:55:24.447286Z",
     "iopub.status.busy": "2023-11-05T08:55:24.446917Z",
     "iopub.status.idle": "2023-11-05T08:55:24.467726Z",
     "shell.execute_reply": "2023-11-05T08:55:24.466354Z",
     "shell.execute_reply.started": "2023-11-05T08:55:24.447255Z"
    }
   },
   "outputs": [],
   "source": [
    "def nearby(lis, ind, no_of_neighbors=1):\n",
    "    neighbors = []\n",
    "    if ind-1 >= no_of_neighbors and len(lis)-ind-1 >= no_of_neighbors:\n",
    "        print(\"if-----------------------------\")\n",
    "        for i in range(0, no_of_neighbors):\n",
    "            neighbors.append(lis[ind-i-1])\n",
    "            neighbors.append(lis[ind+i+1])\n",
    "            neighbors.append(lis[ind])\n",
    "\n",
    "    elif len(lis)-ind <= no_of_neighbors:\n",
    "        print(\"elif-----------------------------\")\n",
    "        for i in range(no_of_neighbors):\n",
    "            neighbors.append(lis[ind-i-1])\n",
    "        for i in range(len(lis)-ind):\n",
    "            neighbors.append(lis[-(i+1)])\n",
    "        neighbors.append(lis[ind])\n",
    "            \n",
    "    else:\n",
    "        print(\"else-----------------------------\")\n",
    "        for i in range(0,ind):\n",
    "            neighbors.append(lis[i])\n",
    "        for i in range(0, no_of_neighbors):\n",
    "            neighbors.append(lis[ind+i+1])\n",
    "        neighbors.append(lis[ind])\n",
    "    return neighbors\n",
    "    \n",
    "        \n",
    "def failure_nearest_errors(error_dates, failure_date):\n",
    "    error_dates = list(error_dates)\n",
    "    error_dates.append(failure_date)\n",
    "    error_dates = sorted(error_dates)\n",
    "    ind = error_dates.index(failure_date)\n",
    "    print(\"Error dates\", len(error_dates), \"Index of failure dates\", ind)\n",
    "    return nearby(error_dates, ind)\n",
    "\n",
    "near_dates_of_failure = {}\n",
    "near_dates_lis = []\n",
    "for i,date in enumerate(fail_dfs[0]['datetime_new']):\n",
    "    res = failure_nearest_errors(error_dfs[0]['datetime_new'], fail_dfs[0]['datetime_new'][i])\n",
    "    near_dates_of_failure[date] = res\n",
    "    near_dates_lis += res\n",
    "    \n",
    "near_dates_lis = np.unique(near_dates_lis)"
   ]
  },
  {
   "cell_type": "code",
   "execution_count": null,
   "metadata": {
    "execution": {
     "iopub.execute_input": "2023-11-05T08:55:24.470209Z",
     "iopub.status.busy": "2023-11-05T08:55:24.469715Z",
     "iopub.status.idle": "2023-11-05T08:55:24.504324Z",
     "shell.execute_reply": "2023-11-05T08:55:24.503150Z",
     "shell.execute_reply.started": "2023-11-05T08:55:24.470162Z"
    }
   },
   "outputs": [],
   "source": [
    "trace_error = go.Scatter(x=error_dfs[0]['datetime_new'],y=[0] * len(error_dfs[0]['datetime_new']), mode='markers', name='Casual Error', marker=dict(size=10, color = 'green', opacity=0.5))\n",
    "trace_bad_error = go.Scatter(x=near_dates_lis,y=[0] * len(near_dates_lis), mode='markers', name='Alert Errors', marker=dict(size=20, color = 'red', opacity=0.5, symbol='star'))\n",
    "trace_fails = go.Scatter(x=fail_dfs[0]['datetime_new'],y=[1] * len(error_dfs[0]['datetime_new']), mode='markers', name='failures', marker=dict(size=10, color = 'red'))\n",
    "\n",
    "fig = go.Figure(data=[trace_error,trace_fails, trace_bad_error])\n",
    "fig.update_layout(\n",
    "    title=\"Most Impactfull Errors for Failure\",\n",
    "    xaxis_title = \"Data\",\n",
    "    )\n",
    "\n",
    "fig.show()"
   ]
  },
  {
   "cell_type": "code",
   "execution_count": null,
   "metadata": {
    "execution": {
     "iopub.execute_input": "2023-11-05T08:55:24.506310Z",
     "iopub.status.busy": "2023-11-05T08:55:24.505986Z",
     "iopub.status.idle": "2023-11-05T08:55:24.525324Z",
     "shell.execute_reply": "2023-11-05T08:55:24.524172Z",
     "shell.execute_reply.started": "2023-11-05T08:55:24.506283Z"
    }
   },
   "outputs": [],
   "source": [
    "alert_errors_df = pd.merge(error_dfs[0], pd.Series(near_dates_lis, name='datetime_new'), on='datetime_new')\n",
    "alert_errors_lis = list(alert_errors_df['errorID'])\n",
    "alert_errors_dic = {}\n",
    "for error in alert_errors_lis:\n",
    "    alert_errors_dic[error] = alert_errors_lis.count(error)\n",
    "alert_errors_dic"
   ]
  },
  {
   "cell_type": "code",
   "execution_count": null,
   "metadata": {
    "execution": {
     "iopub.execute_input": "2023-11-05T08:55:24.527156Z",
     "iopub.status.busy": "2023-11-05T08:55:24.526536Z",
     "iopub.status.idle": "2023-11-05T08:55:24.860670Z",
     "shell.execute_reply": "2023-11-05T08:55:24.859425Z",
     "shell.execute_reply.started": "2023-11-05T08:55:24.527125Z"
    }
   },
   "outputs": [],
   "source": [
    "plt.bar(x=list(alert_errors_dic.keys()), height=list(alert_errors_dic.values()))\n",
    "plt.title(\"Error Impact\")\n",
    "plt.xlabel(\"Error ID\")\n",
    "plt.ylabel(\"Impact of Error\")\n",
    "plt.show()"
   ]
  },
  {
   "cell_type": "markdown",
   "metadata": {},
   "source": [
    "## Model Building (Time Series Forecasting)"
   ]
  },
  {
   "cell_type": "code",
   "execution_count": null,
   "metadata": {
    "execution": {
     "iopub.execute_input": "2023-11-05T08:55:24.862691Z",
     "iopub.status.busy": "2023-11-05T08:55:24.862318Z",
     "iopub.status.idle": "2023-11-05T08:55:41.423859Z",
     "shell.execute_reply": "2023-11-05T08:55:41.422654Z",
     "shell.execute_reply.started": "2023-11-05T08:55:24.862657Z"
    }
   },
   "outputs": [],
   "source": [
    "!pip install pmdarima"
   ]
  },
  {
   "cell_type": "code",
   "execution_count": null,
   "metadata": {
    "execution": {
     "iopub.execute_input": "2023-11-05T08:55:41.426563Z",
     "iopub.status.busy": "2023-11-05T08:55:41.426076Z",
     "iopub.status.idle": "2023-11-05T08:55:42.675642Z",
     "shell.execute_reply": "2023-11-05T08:55:42.674392Z",
     "shell.execute_reply.started": "2023-11-05T08:55:41.426516Z"
    }
   },
   "outputs": [],
   "source": [
    "from statsmodels.tsa.arima.model import ARIMA\n",
    "from sklearn.model_selection import train_test_split"
   ]
  },
  {
   "cell_type": "code",
   "execution_count": null,
   "metadata": {
    "execution": {
     "iopub.execute_input": "2023-11-05T08:55:42.677713Z",
     "iopub.status.busy": "2023-11-05T08:55:42.677320Z",
     "iopub.status.idle": "2023-11-05T08:55:42.712396Z",
     "shell.execute_reply": "2023-11-05T08:55:42.710822Z",
     "shell.execute_reply.started": "2023-11-05T08:55:42.677679Z"
    }
   },
   "outputs": [],
   "source": [
    "train_dfs = []\n",
    "test_dfs = []\n",
    "\n",
    "def splitter(df, train_set=0.7):\n",
    "    train,test = df[:round(train_set * len(df))], df[round(train_set * len(df)):]\n",
    "    return train,test\n",
    "\n",
    "for df in dfs:\n",
    "    train,test = splitter(df, train_set=0.8)\n",
    "    train_dfs.append(train)\n",
    "    test_dfs.append(test)\n",
    "\n",
    "train_dfs[0].shape, test_dfs[0].shape"
   ]
  },
  {
   "cell_type": "code",
   "execution_count": null,
   "metadata": {
    "execution": {
     "iopub.execute_input": "2023-11-05T08:55:42.716272Z",
     "iopub.status.busy": "2023-11-05T08:55:42.714327Z",
     "iopub.status.idle": "2023-11-05T08:55:43.235233Z",
     "shell.execute_reply": "2023-11-05T08:55:43.233827Z",
     "shell.execute_reply.started": "2023-11-05T08:55:42.716220Z"
    }
   },
   "outputs": [],
   "source": [
    "from statsmodels.graphics.tsaplots import plot_acf, plot_pacf\n",
    "plot_pacf(train_dfs[0]['volt'])\n",
    "plt.title(\"Partial Autocorrelation (MA)\")\n",
    "plt.show()"
   ]
  },
  {
   "cell_type": "code",
   "execution_count": null,
   "metadata": {
    "execution": {
     "iopub.execute_input": "2023-11-05T08:55:43.239281Z",
     "iopub.status.busy": "2023-11-05T08:55:43.237415Z",
     "iopub.status.idle": "2023-11-05T08:55:43.629209Z",
     "shell.execute_reply": "2023-11-05T08:55:43.627868Z",
     "shell.execute_reply.started": "2023-11-05T08:55:43.239228Z"
    }
   },
   "outputs": [],
   "source": [
    "plot_acf(train_dfs[0]['volt'])\n",
    "plt.title(\"Autocorrelation (AR model)\")\n",
    "plt.show()"
   ]
  },
  {
   "cell_type": "code",
   "execution_count": null,
   "metadata": {
    "execution": {
     "iopub.execute_input": "2023-11-05T08:55:43.632945Z",
     "iopub.status.busy": "2023-11-05T08:55:43.632009Z",
     "iopub.status.idle": "2023-11-05T08:55:44.114749Z",
     "shell.execute_reply": "2023-11-05T08:55:44.113595Z",
     "shell.execute_reply.started": "2023-11-05T08:55:43.632877Z"
    }
   },
   "outputs": [],
   "source": [
    "# Normalizing data\n",
    "\n",
    "from sklearn.preprocessing import MinMaxScaler\n",
    "train_dfs_norm = []\n",
    "shifted = train_dfs[0]['volt'] - train_dfs[0]['volt'].shift()\n",
    "shifted = shifted.dropna()\n",
    "for df in train_dfs:\n",
    "    scaler = MinMaxScaler()\n",
    "    res = scaler.fit_transform(df.drop(['machineID','datetime_new'], axis=1))\n",
    "    res = pd.DataFrame(res,columns=df.drop(['machineID','datetime_new'], axis=1).columns)\n",
    "    train_dfs_norm.append(res)\n",
    "train_dfs_norm[0].head()"
   ]
  },
  {
   "cell_type": "code",
   "execution_count": null,
   "metadata": {
    "execution": {
     "iopub.execute_input": "2023-11-05T08:55:44.117568Z",
     "iopub.status.busy": "2023-11-05T08:55:44.116435Z",
     "iopub.status.idle": "2023-11-05T08:55:45.495031Z",
     "shell.execute_reply": "2023-11-05T08:55:45.493335Z",
     "shell.execute_reply.started": "2023-11-05T08:55:44.117519Z"
    }
   },
   "outputs": [],
   "source": [
    "from pmdarima import auto_arima\n",
    "\n",
    "def find_best_arima_parameters(train_data, max_p=5, max_d=2, max_q=5, seasonal=False):\n",
    "    \"\"\"\n",
    "    Find the best suitable values for p, d, and q for an ARIMA model.\n",
    "\n",
    "    Parameters:\n",
    "    - train_data: A pandas Series or 1D array containing the training time series data.\n",
    "    - max_p: The maximum value of p to search for.\n",
    "    - max_d: The maximum value of d to search for.\n",
    "    - max_q: The maximum value of q to search for.\n",
    "    - seasonal: If True, search for seasonal ARIMA parameters as well.\n",
    "\n",
    "    Returns:\n",
    "    - A tuple (p, d, q) representing the best ARIMA parameters.\n",
    "    \"\"\"\n",
    "    arima_model = auto_arima(train_data, \n",
    "                            max_p=max_p, \n",
    "                            max_d=max_d, \n",
    "                            max_q=max_q, \n",
    "                            seasonal=seasonal, \n",
    "                            stepwise=True, \n",
    "                            suppress_warnings=True, \n",
    "                            error_action=\"ignore\")\n",
    "    return arima_model.order\n",
    "\n",
    "# best_p, best_d, best_q = find_best_arima_parameters(train_dfs_norm[0]['volt'])\n",
    "# print(\"Best ARIMA Parameters (p, d, q):\", best_p, best_d, best_q)"
   ]
  },
  {
   "cell_type": "code",
   "execution_count": null,
   "metadata": {
    "execution": {
     "iopub.execute_input": "2023-11-05T08:55:45.497544Z",
     "iopub.status.busy": "2023-11-05T08:55:45.496753Z",
     "iopub.status.idle": "2023-11-05T08:55:45.504725Z",
     "shell.execute_reply": "2023-11-05T08:55:45.503240Z",
     "shell.execute_reply.started": "2023-11-05T08:55:45.497504Z"
    }
   },
   "outputs": [],
   "source": [
    "# model = ARIMA(train_dfs_norm[0]['volt'], order=(best_p, best_d, best_q))\n",
    "# model_fit = model.fit()\n",
    "# print(model_fit)\n",
    "# result = model_fit.forecast(steps=5)\n",
    "# result"
   ]
  },
  {
   "cell_type": "markdown",
   "metadata": {},
   "source": [
    "## Forecasting"
   ]
  },
  {
   "cell_type": "code",
   "execution_count": null,
   "metadata": {
    "execution": {
     "iopub.execute_input": "2023-11-05T08:55:45.507840Z",
     "iopub.status.busy": "2023-11-05T08:55:45.507345Z",
     "iopub.status.idle": "2023-11-05T08:55:45.521749Z",
     "shell.execute_reply": "2023-11-05T08:55:45.520163Z",
     "shell.execute_reply.started": "2023-11-05T08:55:45.507795Z"
    }
   },
   "outputs": [],
   "source": [
    "# import datetime\n",
    "# PERIODS = 2\n",
    "# START = train_dfs[0]['datetime_new'].iloc[-1]\n",
    "# PAST_DATA = 40\n",
    "\n",
    "# future_dates = pd.Series(pd.date_range(start= START, periods=PERIODS))\n",
    "# initial = train_dfs[0]['datetime_new'].iloc[-PAST_DATA:-1]\n",
    "# y = list(train_dfs_norm[0]['volt'].iloc[-PAST_DATA:-1])\n",
    "\n",
    "# plt.figure(figsize=(16,3))\n",
    "# plt.plot(initial,y, label=\"Train\")\n",
    "# plt.plot(future_dates,list(result[:PERIODS]), label='Forcasted')\n",
    "# plt.show()"
   ]
  },
  {
   "cell_type": "markdown",
   "metadata": {},
   "source": [
    "## Predictive Model Building\n",
    "> **Idealogy:**\n",
    "*     Collect nearest data(volt,rotate,pressure,vibration) where error occured\n",
    "*     Collect nearest data(volt,rotate,pressure,vibration) where error not occured to make balanced dataset\n",
    "*     Generate dataframe from it\n",
    "*     Implement Machine Learning Model \n",
    "*     Predict Error which will occure in system in future"
   ]
  },
  {
   "cell_type": "code",
   "execution_count": null,
   "metadata": {
    "execution": {
     "iopub.execute_input": "2023-11-05T08:55:45.531244Z",
     "iopub.status.busy": "2023-11-05T08:55:45.530010Z",
     "iopub.status.idle": "2023-11-05T08:55:45.549626Z",
     "shell.execute_reply": "2023-11-05T08:55:45.548034Z",
     "shell.execute_reply.started": "2023-11-05T08:55:45.531198Z"
    }
   },
   "outputs": [],
   "source": [
    "error_df.head()"
   ]
  },
  {
   "cell_type": "code",
   "execution_count": null,
   "metadata": {
    "execution": {
     "iopub.execute_input": "2023-11-05T08:55:45.552264Z",
     "iopub.status.busy": "2023-11-05T08:55:45.551816Z",
     "iopub.status.idle": "2023-11-05T08:55:45.573706Z",
     "shell.execute_reply": "2023-11-05T08:55:45.572693Z",
     "shell.execute_reply.started": "2023-11-05T08:55:45.552227Z"
    }
   },
   "outputs": [],
   "source": [
    "tele_df.head()"
   ]
  },
  {
   "cell_type": "code",
   "execution_count": null,
   "metadata": {
    "execution": {
     "iopub.execute_input": "2023-11-05T08:55:45.576285Z",
     "iopub.status.busy": "2023-11-05T08:55:45.575752Z",
     "iopub.status.idle": "2023-11-05T08:57:17.181597Z",
     "shell.execute_reply": "2023-11-05T08:57:17.180325Z",
     "shell.execute_reply.started": "2023-11-05T08:55:45.576236Z"
    }
   },
   "outputs": [],
   "source": [
    "import pandas\n",
    "NEARBY_NUM = 10\n",
    "class NearDates:\n",
    "    \"\"\" Returns list of dataframes\"\"\"\n",
    "    def __init__(self, datetimes:pd.DataFrame, error_dates:pd.Series, date_col:str):\n",
    "        \"\"\"constructor for datetimes series and error dates\n",
    "            datetimes: datetime dataframe which you want to slice\n",
    "            error_dates: error_dates series near which you want to slice from dataframe\"\"\"\n",
    "        self.datetimes = datetimes\n",
    "        self.error_dates = error_dates\n",
    "        self.date_col = date_col\n",
    "    \n",
    "    def find_index(self, error_date:pandas._libs.tslibs.timestamps.Timestamp) -> int:\n",
    "        \"\"\"Returns index of error time instance\"\"\"\n",
    "        for i,datetime in enumerate(self.datetimes[self.date_col]):\n",
    "            if error_date < datetime:\n",
    "                return i\n",
    "            else:\n",
    "                continue\n",
    "        \n",
    "    def slicer(self, error_date:pandas._libs.tslibs.timestamps.Timestamp, nearby:int) -> tuple:\n",
    "        \"\"\" Returns start and end index of slice\"\"\"\n",
    "        ind = self.find_index(error_date)\n",
    "        if ind > nearby:\n",
    "            return (ind-nearby, ind)\n",
    "        else:\n",
    "            return (0,ind)\n",
    "        \n",
    "    def iterator(self, nearby:int) -> list:\n",
    "        \"\"\"Returns list of dataframes (sliced dataframes)\"\"\"\n",
    "        slices = []\n",
    "        for i,error_date in enumerate(self.error_dates):\n",
    "            start,end = self.slicer(error_date, nearby)\n",
    "            slices.append(self.datetimes.iloc[start:end])\n",
    "        return slices\n",
    "    \n",
    "near_finder = NearDates(tele_df, error_df['datetime_new'], 'datetime_new')\n",
    "slices_dfs_error = near_finder.iterator(nearby=NEARBY_NUM)"
   ]
  },
  {
   "cell_type": "code",
   "execution_count": null,
   "metadata": {
    "execution": {
     "iopub.execute_input": "2023-11-05T08:57:17.186186Z",
     "iopub.status.busy": "2023-11-05T08:57:17.185216Z",
     "iopub.status.idle": "2023-11-05T08:57:17.208839Z",
     "shell.execute_reply": "2023-11-05T08:57:17.207351Z",
     "shell.execute_reply.started": "2023-11-05T08:57:17.186135Z"
    }
   },
   "outputs": [],
   "source": [
    "slices_index_non_error = []\n",
    "for df1,df2 in zip(slices_dfs_error[:-1],slices_dfs_error[1:]):\n",
    "    end_ind = df1.index[-1]\n",
    "    start_ind = df2.index[0]\n",
    "\n",
    "    if start_ind - end_ind > NEARBY_NUM+1:\n",
    "        slices_index_non_error.append((end_ind,start_ind))\n",
    "print(\"length of slices_index_non_error ----> \", len(slices_index_non_error))\n",
    "print(\"length of slices_index_error ----> \", len(slices_dfs_error))"
   ]
  },
  {
   "cell_type": "code",
   "execution_count": null,
   "metadata": {
    "execution": {
     "iopub.execute_input": "2023-11-05T08:57:17.211278Z",
     "iopub.status.busy": "2023-11-05T08:57:17.210600Z",
     "iopub.status.idle": "2023-11-05T08:57:17.614982Z",
     "shell.execute_reply": "2023-11-05T08:57:17.613533Z",
     "shell.execute_reply.started": "2023-11-05T08:57:17.211223Z"
    }
   },
   "outputs": [],
   "source": [
    "slices_dfs_non_error = []\n",
    "for val in slices_index_non_error:\n",
    "    mid = int(sum(val)/len(val))\n",
    "    start = mid-5\n",
    "    end = mid+5\n",
    "    slices_dfs_non_error.append(tele_df.iloc[start:end])"
   ]
  },
  {
   "cell_type": "code",
   "execution_count": null,
   "metadata": {
    "execution": {
     "iopub.execute_input": "2023-11-05T08:57:17.617527Z",
     "iopub.status.busy": "2023-11-05T08:57:17.616713Z",
     "iopub.status.idle": "2023-11-05T08:59:09.961779Z",
     "shell.execute_reply": "2023-11-05T08:59:09.960440Z",
     "shell.execute_reply.started": "2023-11-05T08:57:17.617480Z"
    }
   },
   "outputs": [],
   "source": [
    "for df1,df2 in zip(slices_dfs_error, slices_dfs_non_error):\n",
    "    if len(df1) != 10:\n",
    "        ind = list(map(str,slices_dfs_error)).index(str(df1))\n",
    "        del slices_dfs_error[ind]\n",
    "        \n",
    "for df1,df2 in zip(slices_dfs_error, slices_dfs_non_error):\n",
    "    if len(df1) != 10:\n",
    "        print(\"Warning...\")"
   ]
  },
  {
   "cell_type": "code",
   "execution_count": null,
   "metadata": {
    "execution": {
     "iopub.execute_input": "2023-11-05T08:59:09.963833Z",
     "iopub.status.busy": "2023-11-05T08:59:09.963388Z",
     "iopub.status.idle": "2023-11-05T08:59:10.346475Z",
     "shell.execute_reply": "2023-11-05T08:59:10.345449Z",
     "shell.execute_reply.started": "2023-11-05T08:59:09.963791Z"
    }
   },
   "outputs": [],
   "source": [
    "plt.plot(slices_dfs_error[0]['rotate'],label=\"error_rotate\")\n",
    "plt.plot(slices_dfs_error[0]['volt'], label='error_volt')\n",
    "plt.plot(slices_dfs_error[0]['vibration'], label=\"error_vibrate\")\n",
    "plt.plot(slices_dfs_non_error[0]['rotate'],label=\"no_error_rotate\")\n",
    "plt.plot(slices_dfs_non_error[0]['volt'], label='no_error_volt')\n",
    "plt.plot(slices_dfs_non_error[0]['vibration'], label=\"no_error_vibrate\")\n",
    "plt.title(\"parameters during error occurance and non error occurance\")\n",
    "plt.legend()\n",
    "plt.show()"
   ]
  },
  {
   "cell_type": "code",
   "execution_count": null,
   "metadata": {
    "execution": {
     "iopub.execute_input": "2023-11-05T08:59:10.348858Z",
     "iopub.status.busy": "2023-11-05T08:59:10.347912Z",
     "iopub.status.idle": "2023-11-05T08:59:12.042793Z",
     "shell.execute_reply": "2023-11-05T08:59:12.041611Z",
     "shell.execute_reply.started": "2023-11-05T08:59:10.348823Z"
    }
   },
   "outputs": [],
   "source": [
    "final_dfs = []\n",
    "for df1,df2 in zip(slices_dfs_error, slices_dfs_non_error):\n",
    "    if (df1.shape[0] != df2.shape[0] or df1.shape[1] != df2.shape[1]):\n",
    "        print(\"True---------------------------------> \")\n",
    "    cols = ['volt','rotate','pressure','vibration']\n",
    "    error = []\n",
    "    non_error = []\n",
    "    for col in cols:\n",
    "        error += list(df1[col])\n",
    "        non_error += list(df2[col])\n",
    "    final_dfs.append(error + [1])\n",
    "    final_dfs.append(non_error + [0])"
   ]
  },
  {
   "cell_type": "code",
   "execution_count": null,
   "metadata": {
    "execution": {
     "iopub.execute_input": "2023-11-05T08:59:12.044797Z",
     "iopub.status.busy": "2023-11-05T08:59:12.044408Z",
     "iopub.status.idle": "2023-11-05T08:59:12.052195Z",
     "shell.execute_reply": "2023-11-05T08:59:12.050975Z",
     "shell.execute_reply.started": "2023-11-05T08:59:12.044763Z"
    }
   },
   "outputs": [],
   "source": [
    "column_names = []\n",
    "for col in cols:\n",
    "    for i in range(1,11):\n",
    "        column_names.append(col + \" \" + str(i))\n",
    "if 'Error' not in column_names:\n",
    "    column_names += ['Error']\n",
    "print(column_names)"
   ]
  },
  {
   "cell_type": "code",
   "execution_count": null,
   "metadata": {
    "execution": {
     "iopub.execute_input": "2023-11-05T08:59:12.055092Z",
     "iopub.status.busy": "2023-11-05T08:59:12.054286Z",
     "iopub.status.idle": "2023-11-05T08:59:12.142723Z",
     "shell.execute_reply": "2023-11-05T08:59:12.141219Z",
     "shell.execute_reply.started": "2023-11-05T08:59:12.055050Z"
    }
   },
   "outputs": [],
   "source": [
    "final_df = pd.DataFrame(final_dfs, columns=column_names)\n",
    "final_df.head()"
   ]
  },
  {
   "cell_type": "code",
   "execution_count": null,
   "metadata": {
    "execution": {
     "iopub.execute_input": "2023-11-05T08:59:12.145079Z",
     "iopub.status.busy": "2023-11-05T08:59:12.144597Z",
     "iopub.status.idle": "2023-11-05T08:59:13.685888Z",
     "shell.execute_reply": "2023-11-05T08:59:13.684574Z",
     "shell.execute_reply.started": "2023-11-05T08:59:12.145037Z"
    }
   },
   "outputs": [],
   "source": [
    "# this code fetching insightfull information from dataframes row like mean, min, max, max_change, min_change\n",
    "params = []\n",
    "for i in range(len(final_df)):\n",
    "    row = list(final_df.iloc[i]) # getting single row from df\n",
    "    volt = row[:10]\n",
    "    rotate = row[10:20]\n",
    "    pressure = row[20:30]\n",
    "    vibrate = row[30:40]\n",
    "    readings = [volt,rotate,pressure,vibrate]\n",
    "    readings_labels = ['volt','rotate','pressure','vibrate']\n",
    "    \n",
    "    temp = []\n",
    "    for reading,label in zip(readings,readings_labels):\n",
    "        mean = np.mean(reading)\n",
    "        max_ = max(reading)\n",
    "        min_ = min(reading)\n",
    "        changes = [abs(val1-val2) for val1,val2 in zip(reading, reading[1:])]\n",
    "        max_variation = max(changes)\n",
    "        min_variation = min(changes)\n",
    "        \n",
    "        temp += [mean,max_,min_,max_variation,min_variation] \n",
    "        \n",
    "    params.append(temp)"
   ]
  },
  {
   "cell_type": "code",
   "execution_count": null,
   "metadata": {
    "execution": {
     "iopub.execute_input": "2023-11-05T08:59:13.688026Z",
     "iopub.status.busy": "2023-11-05T08:59:13.687608Z",
     "iopub.status.idle": "2023-11-05T08:59:13.746529Z",
     "shell.execute_reply": "2023-11-05T08:59:13.745283Z",
     "shell.execute_reply.started": "2023-11-05T08:59:13.687993Z"
    }
   },
   "outputs": [],
   "source": [
    "column_names = ['volt_mean','volt_max','volt_min','volt_max_variation','volt_min_variation','rotate_mean','rotate_max','rotate_min','rotate_max_variation','rotate_min_variation','pressure_mean','pressure_max','pressure_min','pressure_max_variation','pressure_min_variation','vibrate_mean','vibrate_max','vibrate_min','vibrate_max_variation','vibrate_min_variation']\n",
    "print(\"lenght of column_names \",len(column_names))\n",
    "extend_df = pd.DataFrame(params, columns = column_names)\n",
    "extend_df.head()"
   ]
  },
  {
   "cell_type": "code",
   "execution_count": null,
   "metadata": {
    "execution": {
     "iopub.execute_input": "2023-11-05T08:59:13.748385Z",
     "iopub.status.busy": "2023-11-05T08:59:13.748020Z",
     "iopub.status.idle": "2023-11-05T08:59:14.087141Z",
     "shell.execute_reply": "2023-11-05T08:59:14.085684Z",
     "shell.execute_reply.started": "2023-11-05T08:59:13.748352Z"
    }
   },
   "outputs": [],
   "source": [
    "extend_df['Error'] = final_df['Error']\n",
    "X,y = extend_df.drop('Error',axis=1), extend_df['Error']\n",
    "from sklearn.model_selection import train_test_split\n",
    "from sklearn.ensemble import RandomForestClassifier\n",
    "\n",
    "X_train,X_test,y_train,y_test = train_test_split(X, y)\n",
    "X_train.shape, y_test.shape"
   ]
  },
  {
   "cell_type": "code",
   "execution_count": null,
   "metadata": {
    "execution": {
     "iopub.execute_input": "2023-11-05T08:59:14.088831Z",
     "iopub.status.busy": "2023-11-05T08:59:14.088475Z",
     "iopub.status.idle": "2023-11-05T08:59:16.526204Z",
     "shell.execute_reply": "2023-11-05T08:59:16.524922Z",
     "shell.execute_reply.started": "2023-11-05T08:59:14.088802Z"
    }
   },
   "outputs": [],
   "source": [
    "model = RandomForestClassifier().fit(X_train,y_train)\n",
    "model.score(X_test,y_test)"
   ]
  },
  {
   "cell_type": "code",
   "execution_count": null,
   "metadata": {
    "execution": {
     "iopub.execute_input": "2023-11-05T08:59:16.530304Z",
     "iopub.status.busy": "2023-11-05T08:59:16.527662Z",
     "iopub.status.idle": "2023-11-05T08:59:16.558012Z",
     "shell.execute_reply": "2023-11-05T08:59:16.556796Z",
     "shell.execute_reply.started": "2023-11-05T08:59:16.530253Z"
    }
   },
   "outputs": [],
   "source": [
    "temp_df = pd.concat([final_df,extend_df],axis='columns')\n",
    "\n",
    "from sklearn.model_selection import train_test_split\n",
    "from sklearn.ensemble import RandomForestClassifier\n",
    "\n",
    "X_train,X_test,y_train,y_test = train_test_split(temp_df.drop('Error',axis=1), temp_df['Error'])\n",
    "X_train.shape, y_test.shape"
   ]
  },
  {
   "cell_type": "code",
   "execution_count": null,
   "metadata": {
    "execution": {
     "iopub.execute_input": "2023-11-05T08:59:16.560407Z",
     "iopub.status.busy": "2023-11-05T08:59:16.559774Z",
     "iopub.status.idle": "2023-11-05T08:59:21.102707Z",
     "shell.execute_reply": "2023-11-05T08:59:21.101404Z",
     "shell.execute_reply.started": "2023-11-05T08:59:16.560372Z"
    }
   },
   "outputs": [],
   "source": [
    "model = RandomForestClassifier().fit(X_train,y_train)\n",
    "model.score(X_test,y_test)"
   ]
  },
  {
   "cell_type": "code",
   "execution_count": null,
   "metadata": {
    "execution": {
     "iopub.execute_input": "2023-11-05T08:59:21.104557Z",
     "iopub.status.busy": "2023-11-05T08:59:21.104194Z",
     "iopub.status.idle": "2023-11-05T08:59:21.121870Z",
     "shell.execute_reply": "2023-11-05T08:59:21.120349Z",
     "shell.execute_reply.started": "2023-11-05T08:59:21.104525Z"
    }
   },
   "outputs": [],
   "source": [
    "from sklearn.svm import SVC\n",
    "from sklearn.naive_bayes import GaussianNB\n",
    "from sklearn.tree import DecisionTreeClassifier\n",
    "from sklearn.neighbors import KNeighborsClassifier\n",
    "from sklearn.model_selection import cross_val_score"
   ]
  },
  {
   "cell_type": "code",
   "execution_count": null,
   "metadata": {
    "execution": {
     "iopub.execute_input": "2023-11-05T08:59:21.124247Z",
     "iopub.status.busy": "2023-11-05T08:59:21.123610Z",
     "iopub.status.idle": "2023-11-05T08:59:29.869790Z",
     "shell.execute_reply": "2023-11-05T08:59:29.868496Z",
     "shell.execute_reply.started": "2023-11-05T08:59:21.124211Z"
    }
   },
   "outputs": [],
   "source": [
    "cross_val_score(SVC(), X,y)"
   ]
  },
  {
   "cell_type": "code",
   "execution_count": null,
   "metadata": {
    "execution": {
     "iopub.execute_input": "2023-11-05T08:59:29.872242Z",
     "iopub.status.busy": "2023-11-05T08:59:29.871843Z",
     "iopub.status.idle": "2023-11-05T08:59:29.924793Z",
     "shell.execute_reply": "2023-11-05T08:59:29.923999Z",
     "shell.execute_reply.started": "2023-11-05T08:59:29.872210Z"
    }
   },
   "outputs": [],
   "source": [
    "cross_val_score(GaussianNB(), X,y)"
   ]
  },
  {
   "cell_type": "code",
   "execution_count": null,
   "metadata": {
    "execution": {
     "iopub.execute_input": "2023-11-05T08:59:29.926981Z",
     "iopub.status.busy": "2023-11-05T08:59:29.925913Z",
     "iopub.status.idle": "2023-11-05T08:59:30.711193Z",
     "shell.execute_reply": "2023-11-05T08:59:30.710004Z",
     "shell.execute_reply.started": "2023-11-05T08:59:29.926942Z"
    }
   },
   "outputs": [],
   "source": [
    "cross_val_score(KNeighborsClassifier(), X,y)"
   ]
  },
  {
   "cell_type": "code",
   "execution_count": null,
   "metadata": {
    "execution": {
     "iopub.execute_input": "2023-11-05T08:59:30.713871Z",
     "iopub.status.busy": "2023-11-05T08:59:30.713232Z",
     "iopub.status.idle": "2023-11-05T08:59:43.522200Z",
     "shell.execute_reply": "2023-11-05T08:59:43.520763Z",
     "shell.execute_reply.started": "2023-11-05T08:59:30.713836Z"
    }
   },
   "outputs": [],
   "source": [
    "cross_val_score(RandomForestClassifier(), X,y)"
   ]
  },
  {
   "cell_type": "code",
   "execution_count": null,
   "metadata": {},
   "outputs": [],
   "source": []
  }
 ],
 "metadata": {
  "kernelspec": {
   "display_name": "Python 3 (ipykernel)",
   "language": "python",
   "name": "python3"
  },
  "language_info": {
   "codemirror_mode": {
    "name": "ipython",
    "version": 3
   },
   "file_extension": ".py",
   "mimetype": "text/x-python",
   "name": "python",
   "nbconvert_exporter": "python",
   "pygments_lexer": "ipython3",
   "version": "3.10.1"
  }
 },
 "nbformat": 4,
 "nbformat_minor": 4
}
